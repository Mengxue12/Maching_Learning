{
  "nbformat": 4,
  "nbformat_minor": 0,
  "metadata": {
    "colab": {
      "name": "C3_W1_Assignment-my.ipynb",
      "provenance": [],
      "include_colab_link": true
    },
    "kernelspec": {
      "display_name": "Python 3",
      "language": "python",
      "name": "python3"
    },
    "language_info": {
      "codemirror_mode": {
        "name": "ipython",
        "version": 3
      },
      "file_extension": ".py",
      "mimetype": "text/x-python",
      "name": "python",
      "nbconvert_exporter": "python",
      "pygments_lexer": "ipython3",
      "version": "3.8.5"
    }
  },
  "cells": [
    {
      "cell_type": "markdown",
      "metadata": {
        "id": "view-in-github",
        "colab_type": "text"
      },
      "source": [
        "<a href=\"https://colab.research.google.com/github/Mengxue12/Maching_Learning/blob/main/C3/W1/assignment/C3_W1_Assignment_my.ipynb\" target=\"_parent\"><img src=\"https://colab.research.google.com/assets/colab-badge.svg\" alt=\"Open In Colab\"/></a>"
      ]
    },
    {
      "cell_type": "markdown",
      "metadata": {
        "id": "rX8mhOLljYeM"
      },
      "source": [
        "##### Copyright 2019 The TensorFlow Authors."
      ]
    },
    {
      "cell_type": "code",
      "metadata": {
        "cellView": "form",
        "id": "BZSlp3DAjdYf"
      },
      "source": [
        "#@title Licensed under the Apache License, Version 2.0 (the \"License\");\n",
        "# you may not use this file except in compliance with the License.\n",
        "# You may obtain a copy of the License at\n",
        "#\n",
        "# https://www.apache.org/licenses/LICENSE-2.0\n",
        "#\n",
        "# Unless required by applicable law or agreed to in writing, software\n",
        "# distributed under the License is distributed on an \"AS IS\" BASIS,\n",
        "# WITHOUT WARRANTIES OR CONDITIONS OF ANY KIND, either express or implied.\n",
        "# See the License for the specific language governing permissions and\n",
        "# limitations under the License."
      ],
      "execution_count": 17,
      "outputs": []
    },
    {
      "cell_type": "markdown",
      "metadata": {
        "id": "uTnv5HwORS87"
      },
      "source": [
        "**Note:** This notebook can run using TensorFlow 2.5.0"
      ]
    },
    {
      "cell_type": "code",
      "metadata": {
        "id": "pQAQVQE9RS88"
      },
      "source": [
        "#!pip install tensorflow==2.5.0"
      ],
      "execution_count": 18,
      "outputs": []
    },
    {
      "cell_type": "code",
      "source": [
        "# bbc-text.csv\n",
        "!gdown --id 1rX10xeI3eUJmOLsc4pOPY6AnCLO8DxNj"
      ],
      "metadata": {
        "colab": {
          "base_uri": "https://localhost:8080/"
        },
        "id": "7CpsreTTf0CN",
        "outputId": "3642a62f-d025-46d2-b1c3-a8bc0a664355"
      },
      "execution_count": 19,
      "outputs": [
        {
          "output_type": "stream",
          "name": "stdout",
          "text": [
            "Downloading...\n",
            "From: https://drive.google.com/uc?id=1rX10xeI3eUJmOLsc4pOPY6AnCLO8DxNj\n",
            "To: /content/bbc-text.csv\n",
            "\r  0% 0.00/5.06M [00:00<?, ?B/s]\r100% 5.06M/5.06M [00:00<00:00, 152MB/s]\n"
          ]
        }
      ]
    },
    {
      "cell_type": "code",
      "metadata": {
        "id": "zrZevCPJ92HG"
      },
      "source": [
        "import csv\n",
        "from tensorflow.keras.preprocessing.text import Tokenizer\n",
        "from tensorflow.keras.preprocessing.sequence import pad_sequences"
      ],
      "execution_count": 20,
      "outputs": []
    },
    {
      "cell_type": "code",
      "source": [
        "#Stopwords list from https://github.com/Yoast/YoastSEO.js/blob/develop/src/config/stopwords.js\n",
        "# Convert it to a Python list and paste it here\n",
        "stopwords = [ \"a\", \"about\", \"above\", \"after\", \"again\", \"against\", \"all\", \"am\", \"an\", \"and\", \"any\", \"are\", \"as\", \"at\", \"be\", \"because\", \"been\", \"before\", \"being\", \"below\", \"between\", \"both\", \"but\", \"by\", \"could\", \"did\", \"do\", \"does\", \"doing\", \"down\", \"during\", \"each\", \"few\", \"for\", \"from\", \"further\", \"had\", \"has\", \"have\", \"having\", \"he\", \"he'd\", \"he'll\", \"he's\", \"her\", \"here\", \"here's\", \"hers\", \"herself\", \"him\", \"himself\", \"his\", \"how\", \"how's\", \"i\", \"i'd\", \"i'll\", \"i'm\", \"i've\", \"if\", \"in\", \"into\", \"is\", \"it\", \"it's\", \"its\", \"itself\", \"let's\", \"me\", \"more\", \"most\", \"my\", \"myself\", \"nor\", \"of\", \"on\", \"once\", \"only\", \"or\", \"other\", \"ought\", \"our\", \"ours\", \"ourselves\", \"out\", \"over\", \"own\", \"same\", \"she\", \"she'd\", \"she'll\", \"she's\", \"should\", \"so\", \"some\", \"such\", \"than\", \"that\", \"that's\", \"the\", \"their\", \"theirs\", \"them\", \"themselves\", \"then\", \"there\", \"there's\", \"these\", \"they\", \"they'd\", \"they'll\", \"they're\", \"they've\", \"this\", \"those\", \"through\", \"to\", \"too\", \"under\", \"until\", \"up\", \"very\", \"was\", \"we\", \"we'd\", \"we'll\", \"we're\", \"we've\", \"were\", \"what\", \"what's\", \"when\", \"when's\", \"where\", \"where's\", \"which\", \"while\", \"who\", \"who's\", \"whom\", \"why\", \"why's\", \"with\", \"would\", \"you\", \"you'd\", \"you'll\", \"you're\", \"you've\", \"your\", \"yours\", \"yourself\", \"yourselves\" ]"
      ],
      "metadata": {
        "id": "lqtZiCgqgEPa"
      },
      "execution_count": 21,
      "outputs": []
    },
    {
      "cell_type": "code",
      "metadata": {
        "id": "1rmYBjsyCv3K",
        "colab": {
          "base_uri": "https://localhost:8080/"
        },
        "outputId": "98a7ffde-b82c-43c2-bb3e-78e88b609614"
      },
      "source": [
        "sentences = []\n",
        "labels = []\n",
        "with open(\"bbc-text.csv\", 'r') as csvfile:\n",
        "    ### START CODE HERE\n",
        "    next(csvfile)\n",
        "    for item in csvfile:\n",
        "      sentences.append(item.split(',')[1])\n",
        "      labels.append(item.split(',')[0])\n",
        "    ### END CODE HERE\n",
        "\n",
        "print(len(sentences))\n",
        "print(sentences[0])\n",
        "print(labels[0])\n",
        "#Expected output\n",
        "# 2225\n",
        "# tv future hands viewers home theatre systems plasma high-definition tvs digital video recorders moving living room way people watch tv will radically different five years time. according expert panel gathered annual consumer electronics show las vegas discuss new technologies will impact one favourite pastimes. us leading trend programmes content will delivered viewers via home networks cable satellite telecoms companies broadband service providers front rooms portable devices. one talked-about technologies ces digital personal video recorders (dvr pvr). set-top boxes like us s tivo uk s sky+ system allow people record store play pause forward wind tv programmes want. essentially technology allows much personalised tv. also built-in high-definition tv sets big business japan us slower take off europe lack high-definition programming. not can people forward wind adverts can also forget abiding network channel schedules putting together a-la-carte entertainment. us networks cable satellite companies worried means terms advertising revenues well brand identity viewer loyalty channels. although us leads technology moment also concern raised europe particularly growing uptake services like sky+. happens today will see nine months years time uk adam hume bbc broadcast s futurologist told bbc news website. likes bbc no issues lost advertising revenue yet. pressing issue moment commercial uk broadcasters brand loyalty important everyone. will talking content brands rather network brands said tim hanlon brand communications firm starcom mediavest. reality broadband connections anybody can producer content. added: challenge now hard promote programme much choice. means said stacey jolna senior vice president tv guide tv group way people find content want watch simplified tv viewers. means networks us terms channels take leaf google s book search engine future instead scheduler help people find want watch. kind channel model might work younger ipod generation used taking control gadgets play them. might not suit everyone panel recognised. older generations comfortable familiar schedules channel brands know getting. perhaps not want much choice put hands mr hanlon suggested. end kids just diapers pushing buttons already - everything possible available said mr hanlon. ultimately consumer will tell market want. 50 000 new gadgets technologies showcased ces many enhancing tv-watching experience. high-definition tv sets everywhere many new models lcd (liquid crystal display) tvs launched dvr capability built instead external boxes. one example launched show humax s 26-inch lcd tv 80-hour tivo dvr dvd recorder. one us s biggest satellite tv companies directtv even launched branded dvr show 100-hours recording capability instant replay search function. set can pause rewind tv 90 hours. microsoft chief bill gates announced pre-show keynote speech partnership tivo called tivotogo means people can play recorded programmes windows pcs mobile devices. reflect increasing trend freeing multimedia people can watch want want."
      ],
      "execution_count": 28,
      "outputs": [
        {
          "output_type": "stream",
          "name": "stdout",
          "text": [
            "2225\n",
            "tv future in the hands of viewers with home theatre systems  plasma high-definition tvs  and digital video recorders moving into the living room  the way people watch tv will be radically different in five years  time.  that is according to an expert panel which gathered at the annual consumer electronics show in las vegas to discuss how these new technologies will impact one of our favourite pastimes. with the us leading the trend  programmes and other content will be delivered to viewers via home networks  through cable  satellite  telecoms companies  and broadband service providers to front rooms and portable devices.  one of the most talked-about technologies of ces has been digital and personal video recorders (dvr and pvr). these set-top boxes  like the us s tivo and the uk s sky+ system  allow people to record  store  play  pause and forward wind tv programmes when they want.  essentially  the technology allows for much more personalised tv. they are also being built-in to high-definition tv sets  which are big business in japan and the us  but slower to take off in europe because of the lack of high-definition programming. not only can people forward wind through adverts  they can also forget about abiding by network and channel schedules  putting together their own a-la-carte entertainment. but some us networks and cable and satellite companies are worried about what it means for them in terms of advertising revenues as well as  brand identity  and viewer loyalty to channels. although the us leads in this technology at the moment  it is also a concern that is being raised in europe  particularly with the growing uptake of services like sky+.  what happens here today  we will see in nine months to a years  time in the uk   adam hume  the bbc broadcast s futurologist told the bbc news website. for the likes of the bbc  there are no issues of lost advertising revenue yet. it is a more pressing issue at the moment for commercial uk broadcasters  but brand loyalty is important for everyone.  we will be talking more about content brands rather than network brands   said tim hanlon  from brand communications firm starcom mediavest.  the reality is that with broadband connections  anybody can be the producer of content.  he added:  the challenge now is that it is hard to promote a programme with so much choice.   what this means  said stacey jolna  senior vice president of tv guide tv group  is that the way people find the content they want to watch has to be simplified for tv viewers. it means that networks  in us terms  or channels could take a leaf out of google s book and be the search engine of the future  instead of the scheduler to help people find what they want to watch. this kind of channel model might work for the younger ipod generation which is used to taking control of their gadgets and what they play on them. but it might not suit everyone  the panel recognised. older generations are more comfortable with familiar schedules and channel brands because they know what they are getting. they perhaps do not want so much of the choice put into their hands  mr hanlon suggested.  on the other end  you have the kids just out of diapers who are pushing buttons already - everything is possible and available to them   said mr hanlon.  ultimately  the consumer will tell the market they want.   of the 50 000 new gadgets and technologies being showcased at ces  many of them are about enhancing the tv-watching experience. high-definition tv sets are everywhere and many new models of lcd (liquid crystal display) tvs have been launched with dvr capability built into them  instead of being external boxes. one such example launched at the show is humax s 26-inch lcd tv with an 80-hour tivo dvr and dvd recorder. one of the us s biggest satellite tv companies  directtv  has even launched its own branded dvr at the show with 100-hours of recording capability  instant replay  and a search function. the set can pause and rewind tv for up to 90 hours. and microsoft chief bill gates announced in his pre-show keynote speech a partnership with tivo  called tivotogo  which means people can play recorded programmes on windows pcs and mobile devices. all these reflect the increasing trend of freeing up multimedia so that people can watch what they want  when they want.\n",
            "\n",
            "tech\n"
          ]
        }
      ]
    },
    {
      "cell_type": "code",
      "metadata": {
        "id": "9LhzBBgSC3S5",
        "colab": {
          "base_uri": "https://localhost:8080/"
        },
        "outputId": "5786d759-9aca-4139-8a36-be78bf843288"
      },
      "source": [
        "tokenizer = Tokenizer(oov_token=\"<OOV>\")### YOUR CODE HERE\n",
        "tokenizer.fit_on_texts(sentences)\n",
        "word_index = tokenizer.word_index ### YOUR CODE HERE\n",
        "print(len(word_index))\n",
        "# Expected output\n",
        "# 29714"
      ],
      "execution_count": 35,
      "outputs": [
        {
          "output_type": "stream",
          "name": "stdout",
          "text": [
            "29727\n"
          ]
        }
      ]
    },
    {
      "cell_type": "code",
      "metadata": {
        "id": "1Gr3dbQfC5VR",
        "colab": {
          "base_uri": "https://localhost:8080/"
        },
        "outputId": "8cf92c88-d0c1-415a-f806-884270eb6435"
      },
      "source": [
        "sequences = tokenizer.texts_to_sequences(sentences) ### YOUR CODE HERE\n",
        "padded = pad_sequences(sequences, padding='post') ### YOUR CODE HERE\n",
        "print(padded[0])\n",
        "print(padded.shape)\n",
        "\n",
        "# Expected output\n",
        "# [  96  176 1158 ...    0    0    0]\n",
        "# (2225, 2442)"
      ],
      "execution_count": 32,
      "outputs": [
        {
          "output_type": "stream",
          "name": "stdout",
          "text": [
            "[177 265   7 ...   0   0   0]\n",
            "(2225, 4491)\n"
          ]
        }
      ]
    },
    {
      "cell_type": "code",
      "metadata": {
        "id": "fZufOahzC6yx",
        "colab": {
          "base_uri": "https://localhost:8080/"
        },
        "outputId": "988846f9-4343-4817-fbba-59593810e330"
      },
      "source": [
        "### START CODE HERE\n",
        "tokenizer = Tokenizer(oov_token=\"<OOV>\")\n",
        "tokenizer.fit_on_texts(labels)\n",
        "label_seq = tokenizer.texts_to_sequences(labels)\n",
        "label_word_index = tokenizer.word_index \n",
        "### END CODE HERE\n",
        "\n",
        "print(label_seq)\n",
        "print(label_word_index)\n",
        "\n",
        "# Expected Output\n",
        "# [[4], [2], [1], [1], [5], [3], [3], [1], [1], [5], [5], [2], [2], [3], [1], [2], [3], [1], [2], [4], [4], [4], [1], [1], [4], [1], [5], [4], [3], [5], [3], [4], [5], [5], [2], [3], [4], [5], [3], [2], [3], [1], [2], [1], [4], [5], [3], [3], [3], [2], [1], [3], [2], [2], [1], [3], [2], [1], [1], [2], [2], [1], [2], [1], [2], [4], [2], [5], [4], [2], [3], [2], [3], [1], [2], [4], [2], [1], [1], [2], [2], [1], [3], [2], [5], [3], [3], [2], [5], [2], [1], [1], [3], [1], [3], [1], [2], [1], [2], [5], [5], [1], [2], [3], [3], [4], [1], [5], [1], [4], [2], [5], [1], [5], [1], [5], [5], [3], [1], [1], [5], [3], [2], [4], [2], [2], [4], [1], [3], [1], [4], [5], [1], [2], [2], [4], [5], [4], [1], [2], [2], [2], [4], [1], [4], [2], [1], [5], [1], [4], [1], [4], [3], [2], [4], [5], [1], [2], [3], [2], [5], [3], [3], [5], [3], [2], [5], [3], [3], [5], [3], [1], [2], [3], [3], [2], [5], [1], [2], [2], [1], [4], [1], [4], [4], [1], [2], [1], [3], [5], [3], [2], [3], [2], [4], [3], [5], [3], [4], [2], [1], [2], [1], [4], [5], [2], [3], [3], [5], [1], [5], [3], [1], [5], [1], [1], [5], [1], [3], [3], [5], [4], [1], [3], [2], [5], [4], [1], [4], [1], [5], [3], [1], [5], [4], [2], [4], [2], [2], [4], [2], [1], [2], [1], [2], [1], [5], [2], [2], [5], [1], [1], [3], [4], [3], [3], [3], [4], [1], [4], [3], [2], [4], [5], [4], [1], [1], [2], [2], [3], [2], [4], [1], [5], [1], [3], [4], [5], [2], [1], [5], [1], [4], [3], [4], [2], [2], [3], [3], [1], [2], [4], [5], [3], [4], [2], [5], [1], [5], [1], [5], [3], [2], [1], [2], [1], [1], [5], [1], [3], [3], [2], [5], [4], [2], [1], [2], [5], [2], [2], [2], [3], [2], [3], [5], [5], [2], [1], [2], [3], [2], [4], [5], [2], [1], [1], [5], [2], [2], [3], [4], [5], [4], [3], [2], [1], [3], [2], [5], [4], [5], [4], [3], [1], [5], [2], [3], [2], [2], [3], [1], [4], [2], [2], [5], [5], [4], [1], [2], [5], [4], [4], [5], [5], [5], [3], [1], [3], [4], [2], [5], [3], [2], [5], [3], [3], [1], [1], [2], [3], [5], [2], [1], [2], [2], [1], [2], [3], [3], [3], [1], [4], [4], [2], [4], [1], [5], [2], [3], [2], [5], [2], [3], [5], [3], [2], [4], [2], [1], [1], [2], [1], [1], [5], [1], [1], [1], [4], [2], [2], [2], [3], [1], [1], [2], [4], [2], [3], [1], [3], [4], [2], [1], [5], [2], [3], [4], [2], [1], [2], [3], [2], [2], [1], [5], [4], [3], [4], [2], [1], [2], [5], [4], [4], [2], [1], [1], [5], [3], [3], [3], [1], [3], [4], [4], [5], [3], [4], [5], [2], [1], [1], [4], [2], [1], [1], [3], [1], [1], [2], [1], [5], [4], [3], [1], [3], [4], [2], [2], [2], [4], [2], [2], [1], [1], [1], [1], [2], [4], [5], [1], [1], [4], [2], [4], [5], [3], [1], [2], [3], [2], [4], [4], [3], [4], [2], [1], [2], [5], [1], [3], [5], [1], [1], [3], [4], [5], [4], [1], [3], [2], [5], [3], [2], [5], [1], [1], [4], [3], [5], [3], [5], [3], [4], [3], [5], [1], [2], [1], [5], [1], [5], [4], [2], [1], [3], [5], [3], [5], [5], [5], [3], [5], [4], [3], [4], [4], [1], [1], [4], [4], [1], [5], [5], [1], [4], [5], [1], [1], [4], [2], [3], [4], [2], [1], [5], [1], [5], [3], [4], [5], [5], [2], [5], [5], [1], [4], [4], [3], [1], [4], [1], [3], [3], [5], [4], [2], [4], [4], [4], [2], [3], [3], [1], [4], [2], [2], [5], [5], [1], [4], [2], [4], [5], [1], [4], [3], [4], [3], [2], [3], [3], [2], [1], [4], [1], [4], [3], [5], [4], [1], [5], [4], [1], [3], [5], [1], [4], [1], [1], [3], [5], [2], [3], [5], [2], [2], [4], [2], [5], [4], [1], [4], [3], [4], [3], [2], [3], [5], [1], [2], [2], [2], [5], [1], [2], [5], [5], [1], [5], [3], [3], [3], [1], [1], [1], [4], [3], [1], [3], [3], [4], [3], [1], [2], [5], [1], [2], [2], [4], [2], [5], [5], [5], [2], [5], [5], [3], [4], [2], [1], [4], [1], [1], [3], [2], [1], [4], [2], [1], [4], [1], [1], [5], [1], [2], [1], [2], [4], [3], [4], [2], [1], [1], [2], [2], [2], [2], [3], [1], [2], [4], [2], [1], [3], [2], [4], [2], [1], [2], [3], [5], [1], [2], [3], [2], [5], [2], [2], [2], [1], [3], [5], [1], [3], [1], [3], [3], [2], [2], [1], [4], [5], [1], [5], [2], [2], [2], [4], [1], [4], [3], [4], [4], [4], [1], [4], [4], [5], [5], [4], [1], [5], [4], [1], [1], [2], [5], [4], [2], [1], [2], [3], [2], [5], [4], [2], [3], [2], [4], [1], [2], [5], [2], [3], [1], [5], [3], [1], [2], [1], [3], [3], [1], [5], [5], [2], [2], [1], [4], [4], [1], [5], [4], [4], [2], [1], [5], [4], [1], [1], [2], [5], [2], [2], [2], [5], [1], [5], [4], [4], [4], [3], [4], [4], [5], [5], [1], [1], [3], [2], [5], [1], [3], [5], [4], [3], [4], [4], [2], [5], [3], [4], [3], [3], [1], [3], [3], [5], [4], [1], [3], [1], [5], [3], [2], [2], [3], [1], [1], [1], [5], [4], [4], [2], [5], [1], [3], [4], [3], [5], [4], [4], [2], [2], [1], [2], [2], [4], [3], [5], [2], [2], [2], [2], [2], [4], [1], [3], [4], [4], [2], [2], [5], [3], [5], [1], [4], [1], [5], [1], [4], [1], [2], [1], [3], [3], [5], [2], [1], [3], [3], [1], [5], [3], [2], [4], [1], [2], [2], [2], [5], [5], [4], [4], [2], [2], [5], [1], [2], [5], [4], [4], [2], [2], [1], [1], [1], [3], [3], [1], [3], [1], [2], [5], [1], [4], [5], [1], [1], [2], [2], [4], [4], [1], [5], [1], [5], [1], [5], [3], [5], [5], [4], [5], [2], [2], [3], [1], [3], [4], [2], [3], [1], [3], [1], [5], [1], [3], [1], [1], [4], [5], [1], [3], [1], [1], [2], [4], [5], [3], [4], [5], [3], [5], [3], [5], [5], [4], [5], [3], [5], [5], [4], [4], [1], [1], [5], [5], [4], [5], [3], [4], [5], [2], [4], [1], [2], [5], [5], [4], [5], [4], [2], [5], [1], [5], [2], [1], [2], [1], [3], [4], [5], [3], [2], [5], [5], [3], [2], [5], [1], [3], [1], [2], [2], [2], [2], [2], [5], [4], [1], [5], [5], [2], [1], [4], [4], [5], [1], [2], [3], [2], [3], [2], [2], [5], [3], [2], [2], [4], [3], [1], [4], [5], [3], [2], [2], [1], [5], [3], [4], [2], [2], [3], [2], [1], [5], [1], [5], [4], [3], [2], [2], [4], [2], [2], [1], [2], [4], [5], [3], [2], [3], [2], [1], [4], [2], [3], [5], [4], [2], [5], [1], [3], [3], [1], [3], [2], [4], [5], [1], [1], [4], [2], [1], [5], [4], [1], [3], [1], [2], [2], [2], [3], [5], [1], [3], [4], [2], [2], [4], [5], [5], [4], [4], [1], [1], [5], [4], [5], [1], [3], [4], [2], [1], [5], [2], [2], [5], [1], [2], [1], [4], [3], [3], [4], [5], [3], [5], [2], [2], [3], [1], [4], [1], [1], [1], [3], [2], [1], [2], [4], [1], [2], [2], [1], [3], [4], [1], [2], [4], [1], [1], [2], [2], [2], [2], [3], [5], [4], [2], [2], [1], [2], [5], [2], [5], [1], [3], [2], [2], [4], [5], [2], [2], [2], [3], [2], [3], [4], [5], [3], [5], [1], [4], [3], [2], [4], [1], [2], [2], [5], [4], [2], [2], [1], [1], [5], [1], [3], [1], [2], [1], [2], [3], [3], [2], [3], [4], [5], [1], [2], [5], [1], [3], [3], [4], [5], [2], [3], [3], [1], [4], [2], [1], [5], [1], [5], [1], [2], [1], [3], [5], [4], [2], [1], [3], [4], [1], [5], [2], [1], [5], [1], [4], [1], [4], [3], [1], [2], [5], [4], [4], [3], [4], [5], [4], [1], [2], [4], [2], [5], [1], [4], [3], [3], [3], [3], [5], [5], [5], [2], [3], [3], [1], [1], [4], [1], [3], [2], [2], [4], [1], [4], [2], [4], [3], [3], [1], [2], [3], [1], [2], [4], [2], [2], [5], [5], [1], [2], [4], [4], [3], [2], [3], [1], [5], [5], [3], [3], [2], [2], [4], [4], [1], [1], [3], [4], [1], [4], [2], [1], [2], [3], [1], [5], [2], [4], [3], [5], [4], [2], [1], [5], [4], [4], [5], [3], [4], [5], [1], [5], [1], [1], [1], [3], [4], [1], [2], [1], [1], [2], [4], [1], [2], [5], [3], [4], [1], [3], [4], [5], [3], [1], [3], [4], [2], [5], [1], [3], [2], [4], [4], [4], [3], [2], [1], [3], [5], [4], [5], [1], [4], [2], [3], [5], [4], [3], [1], [1], [2], [5], [2], [2], [3], [2], [2], [3], [4], [5], [3], [5], [5], [2], [3], [1], [3], [5], [1], [5], [3], [5], [5], [5], [2], [1], [3], [1], [5], [4], [4], [2], [3], [5], [2], [1], [2], [3], [3], [2], [1], [4], [4], [4], [2], [3], [3], [2], [1], [1], [5], [2], [1], [1], [3], [3], [3], [5], [3], [2], [4], [2], [3], [5], [5], [2], [1], [3], [5], [1], [5], [3], [3], [2], [3], [1], [5], [5], [4], [4], [4], [4], [3], [4], [2], [4], [1], [1], [5], [2], [4], [5], [2], [4], [1], [4], [5], [5], [3], [3], [1], [2], [2], [4], [5], [1], [3], [2], [4], [5], [3], [1], [5], [3], [3], [4], [1], [3], [2], [3], [5], [4], [1], [3], [5], [5], [2], [1], [4], [4], [1], [5], [4], [3], [4], [1], [3], [3], [1], [5], [1], [3], [1], [4], [5], [1], [5], [2], [2], [5], [5], [5], [4], [1], [2], [2], [3], [3], [2], [3], [5], [1], [1], [4], [3], [1], [2], [1], [2], [4], [1], [1], [2], [5], [1], [1], [4], [1], [2], [3], [2], [5], [4], [5], [3], [2], [5], [3], [5], [3], [3], [2], [1], [1], [1], [4], [4], [1], [3], [5], [4], [1], [5], [2], [5], [3], [2], [1], [4], [2], [1], [3], [2], [5], [5], [5], [3], [5], [3], [5], [1], [5], [1], [3], [3], [2], [3], [4], [1], [4], [1], [2], [3], [4], [5], [5], [3], [5], [3], [1], [1], [3], [2], [4], [1], [3], [3], [5], [1], [3], [3], [2], [4], [4], [2], [4], [1], [1], [2], [3], [2], [4], [1], [4], [3], [5], [1], [2], [1], [5], [4], [4], [1], [3], [1], [2], [1], [2], [1], [1], [5], [5], [2], [4], [4], [2], [4], [2], [2], [1], [1], [3], [1], [4], [1], [4], [1], [1], [2], [2], [4], [1], [2], [4], [4], [3], [1], [2], [5], [5], [4], [3], [1], [1], [4], [2], [4], [5], [5], [3], [3], [2], [5], [1], [5], [5], [2], [1], [3], [4], [2], [1], [5], [4], [3], [3], [1], [1], [2], [2], [2], [2], [2], [5], [2], [3], [3], [4], [4], [5], [3], [5], [2], [3], [1], [1], [2], [4], [2], [4], [1], [2], [2], [3], [1], [1], [3], [3], [5], [5], [3], [2], [3], [3], [2], [4], [3], [3], [3], [3], [3], [5], [5], [4], [3], [1], [3], [1], [4], [1], [1], [1], [5], [4], [5], [4], [1], [4], [1], [1], [5], [5], [2], [5], [5], [3], [2], [1], [4], [4], [3], [2], [1], [2], [5], [1], [3], [5], [1], [1], [2], [3], [4], [4], [2], [2], [1], [3], [5], [1], [1], [3], [5], [4], [1], [5], [2], [3], [1], [3], [4], [5], [1], [3], [2], [5], [3], [5], [3], [1], [3], [2], [2], [3], [2], [4], [1], [2], [5], [2], [1], [1], [5], [4], [3], [4], [3], [3], [1], [1], [1], [2], [4], [5], [2], [1], [2], [1], [2], [4], [2], [2], [2], [2], [1], [1], [1], [2], [2], [5], [2], [2], [2], [1], [1], [1], [4], [2], [1], [1], [1], [2], [5], [4], [4], [4], [3], [2], [2], [4], [2], [4], [1], [1], [3], [3], [3], [1], [1], [3], [3], [4], [2], [1], [1], [1], [1], [2], [1], [2], [2], [2], [2], [1], [3], [1], [4], [4], [1], [4], [2], [5], [2], [1], [2], [4], [4], [3], [5], [2], [5], [2], [4], [3], [5], [3], [5], [5], [4], [2], [4], [4], [2], [3], [1], [5], [2], [3], [5], [2], [4], [1], [4], [3], [1], [3], [2], [3], [3], [2], [2], [2], [4], [3], [2], [3], [2], [5], [3], [1], [3], [3], [1], [5], [4], [4], [2], [4], [1], [2], [2], [3], [1], [4], [4], [4], [1], [5], [1], [3], [2], [3], [3], [5], [4], [2], [4], [1], [5], [5], [1], [2], [5], [4], [4], [1], [5], [2], [3], [3], [3], [4], [4], [2], [3], [2], [3], [3], [5], [1], [4], [2], [4], [5], [4], [4], [1], [3], [1], [1], [3], [5], [5], [2], [3], [3], [1], [2], [2], [4], [2], [4], [4], [1], [2], [3], [1], [2], [2], [1], [4], [1], [4], [5], [1], [1], [5], [2], [4], [1], [1], [3], [4], [2], [3], [1], [1], [3], [5], [4], [4], [4], [2], [1], [5], [5], [4], [2], [3], [4], [1], [1], [4], [4], [3], [2], [1], [5], [5], [1], [5], [4], [4], [2], [2], [2], [1], [1], [4], [1], [2], [4], [2], [2], [1], [2], [3], [2], [2], [4], [2], [4], [3], [4], [5], [3], [4], [5], [1], [3], [5], [2], [4], [2], [4], [5], [4], [1], [2], [2], [3], [5], [3], [1]]\n",
        "# {'sport': 1, 'business': 2, 'politics': 3, 'tech': 4, 'entertainment': 5}"
      ],
      "execution_count": 36,
      "outputs": [
        {
          "output_type": "stream",
          "name": "stdout",
          "text": [
            "[[5], [3], [2], [2], [6], [4], [4], [2], [2], [6], [6], [3], [3], [4], [2], [3], [4], [2], [3], [5], [5], [5], [2], [2], [5], [2], [6], [5], [4], [6], [4], [5], [6], [6], [3], [4], [5], [6], [4], [3], [4], [2], [3], [2], [5], [6], [4], [4], [4], [3], [2], [4], [3], [3], [2], [4], [3], [2], [2], [3], [3], [2], [3], [2], [3], [5], [3], [6], [5], [3], [4], [3], [4], [2], [3], [5], [3], [2], [2], [3], [3], [2], [4], [3], [6], [4], [4], [3], [6], [3], [2], [2], [4], [2], [4], [2], [3], [2], [3], [6], [6], [2], [3], [4], [4], [5], [2], [6], [2], [5], [3], [6], [2], [6], [2], [6], [6], [4], [2], [2], [6], [4], [3], [5], [3], [3], [5], [2], [4], [2], [5], [6], [2], [3], [3], [5], [6], [5], [2], [3], [3], [3], [5], [2], [5], [3], [2], [6], [2], [5], [2], [5], [4], [3], [5], [6], [2], [3], [4], [3], [6], [4], [4], [6], [4], [3], [6], [4], [4], [6], [4], [2], [3], [4], [4], [3], [6], [2], [3], [3], [2], [5], [2], [5], [5], [2], [3], [2], [4], [6], [4], [3], [4], [3], [5], [4], [6], [4], [5], [3], [2], [3], [2], [5], [6], [3], [4], [4], [6], [2], [6], [4], [2], [6], [2], [2], [6], [2], [4], [4], [6], [5], [2], [4], [3], [6], [5], [2], [5], [2], [6], [4], [2], [6], [5], [3], [5], [3], [3], [5], [3], [2], [3], [2], [3], [2], [6], [3], [3], [6], [2], [2], [4], [5], [4], [4], [4], [5], [2], [5], [4], [3], [5], [6], [5], [2], [2], [3], [3], [4], [3], [5], [2], [6], [2], [4], [5], [6], [3], [2], [6], [2], [5], [4], [5], [3], [3], [4], [4], [2], [3], [5], [6], [4], [5], [3], [6], [2], [6], [2], [6], [4], [3], [2], [3], [2], [2], [6], [2], [4], [4], [3], [6], [5], [3], [2], [3], [6], [3], [3], [3], [4], [3], [4], [6], [6], [3], [2], [3], [4], [3], [5], [6], [3], [2], [2], [6], [3], [3], [4], [5], [6], [5], [4], [3], [2], [4], [3], [6], [5], [6], [5], [4], [2], [6], [3], [4], [3], [3], [4], [2], [5], [3], [3], [6], [6], [5], [2], [3], [6], [5], [5], [6], [6], [6], [4], [2], [4], [5], [3], [6], [4], [3], [6], [4], [4], [2], [2], [3], [4], [6], [3], [2], [3], [3], [2], [3], [4], [4], [4], [2], [5], [5], [3], [5], [2], [6], [3], [4], [3], [6], [3], [4], [6], [4], [3], [5], [3], [2], [2], [3], [2], [2], [6], [2], [2], [2], [5], [3], [3], [3], [4], [2], [2], [3], [5], [3], [4], [2], [4], [5], [3], [2], [6], [3], [4], [5], [3], [2], [3], [4], [3], [3], [2], [6], [5], [4], [5], [3], [2], [3], [6], [5], [5], [3], [2], [2], [6], [4], [4], [4], [2], [4], [5], [5], [6], [4], [5], [6], [3], [2], [2], [5], [3], [2], [2], [4], [2], [2], [3], [2], [6], [5], [4], [2], [4], [5], [3], [3], [3], [5], [3], [3], [2], [2], [2], [2], [3], [5], [6], [2], [2], [5], [3], [5], [6], [4], [2], [3], [4], [3], [5], [5], [4], [5], [3], [2], [3], [6], [2], [4], [6], [2], [2], [4], [5], [6], [5], [2], [4], [3], [6], [4], [3], [6], [2], [2], [5], [4], [6], [4], [6], [4], [5], [4], [6], [2], [3], [2], [6], [2], [6], [5], [3], [2], [4], [6], [4], [6], [6], [6], [4], [6], [5], [4], [5], [5], [2], [2], [5], [5], [2], [6], [6], [2], [5], [6], [2], [2], [5], [3], [4], [5], [3], [2], [6], [2], [6], [4], [5], [6], [6], [3], [6], [6], [2], [5], [5], [4], [2], [5], [2], [4], [4], [6], [5], [3], [5], [5], [5], [3], [4], [4], [2], [5], [3], [3], [6], [6], [2], [5], [3], [5], [6], [2], [5], [4], [5], [4], [3], [4], [4], [3], [2], [5], [2], [5], [4], [6], [5], [2], [6], [5], [2], [4], [6], [2], [5], [2], [2], [4], [6], [3], [4], [6], [3], [3], [5], [3], [6], [5], [2], [5], [4], [5], [4], [3], [4], [6], [2], [3], [3], [3], [6], [2], [3], [6], [6], [2], [6], [4], [4], [4], [2], [2], [2], [5], [4], [2], [4], [4], [5], [4], [2], [3], [6], [2], [3], [3], [5], [3], [6], [6], [6], [3], [6], [6], [4], [5], [3], [2], [5], [2], [2], [4], [3], [2], [5], [3], [2], [5], [2], [2], [6], [2], [3], [2], [3], [5], [4], [5], [3], [2], [2], [3], [3], [3], [3], [4], [2], [3], [5], [3], [2], [4], [3], [5], [3], [2], [3], [4], [6], [2], [3], [4], [3], [6], [3], [3], [3], [2], [4], [6], [2], [4], [2], [4], [4], [3], [3], [2], [5], [6], [2], [6], [3], [3], [3], [5], [2], [5], [4], [5], [5], [5], [2], [5], [5], [6], [6], [5], [2], [6], [5], [2], [2], [3], [6], [5], [3], [2], [3], [4], [3], [6], [5], [3], [4], [3], [5], [2], [3], [6], [3], [4], [2], [6], [4], [2], [3], [2], [4], [4], [2], [6], [6], [3], [3], [2], [5], [5], [2], [6], [5], [5], [3], [2], [6], [5], [2], [2], [3], [6], [3], [3], [3], [6], [2], [6], [5], [5], [5], [4], [5], [5], [6], [6], [2], [2], [4], [3], [6], [2], [4], [6], [5], [4], [5], [5], [3], [6], [4], [5], [4], [4], [2], [4], [4], [6], [5], [2], [4], [2], [6], [4], [3], [3], [4], [2], [2], [2], [6], [5], [5], [3], [6], [2], [4], [5], [4], [6], [5], [5], [3], [3], [2], [3], [3], [5], [4], [6], [3], [3], [3], [3], [3], [5], [2], [4], [5], [5], [3], [3], [6], [4], [6], [2], [5], [2], [6], [2], [5], [2], [3], [2], [4], [4], [6], [3], [2], [4], [4], [2], [6], [4], [3], [5], [2], [3], [3], [3], [6], [6], [5], [5], [3], [3], [6], [2], [3], [6], [5], [5], [3], [3], [2], [2], [2], [4], [4], [2], [4], [2], [3], [6], [2], [5], [6], [2], [2], [3], [3], [5], [5], [2], [6], [2], [6], [2], [6], [4], [6], [6], [5], [6], [3], [3], [4], [2], [4], [5], [3], [4], [2], [4], [2], [6], [2], [4], [2], [2], [5], [6], [2], [4], [2], [2], [3], [5], [6], [4], [5], [6], [4], [6], [4], [6], [6], [5], [6], [4], [6], [6], [5], [5], [2], [2], [6], [6], [5], [6], [4], [5], [6], [3], [5], [2], [3], [6], [6], [5], [6], [5], [3], [6], [2], [6], [3], [2], [3], [2], [4], [5], [6], [4], [3], [6], [6], [4], [3], [6], [2], [4], [2], [3], [3], [3], [3], [3], [6], [5], [2], [6], [6], [3], [2], [5], [5], [6], [2], [3], [4], [3], [4], [3], [3], [6], [4], [3], [3], [5], [4], [2], [5], [6], [4], [3], [3], [2], [6], [4], [5], [3], [3], [4], [3], [2], [6], [2], [6], [5], [4], [3], [3], [5], [3], [3], [2], [3], [5], [6], [4], [3], [4], [3], [2], [5], [3], [4], [6], [5], [3], [6], [2], [4], [4], [2], [4], [3], [5], [6], [2], [2], [5], [3], [2], [6], [5], [2], [4], [2], [3], [3], [3], [4], [6], [2], [4], [5], [3], [3], [5], [6], [6], [5], [5], [2], [2], [6], [5], [6], [2], [4], [5], [3], [2], [6], [3], [3], [6], [2], [3], [2], [5], [4], [4], [5], [6], [4], [6], [3], [3], [4], [2], [5], [2], [2], [2], [4], [3], [2], [3], [5], [2], [3], [3], [2], [4], [5], [2], [3], [5], [2], [2], [3], [3], [3], [3], [4], [6], [5], [3], [3], [2], [3], [6], [3], [6], [2], [4], [3], [3], [5], [6], [3], [3], [3], [4], [3], [4], [5], [6], [4], [6], [2], [5], [4], [3], [5], [2], [3], [3], [6], [5], [3], [3], [2], [2], [6], [2], [4], [2], [3], [2], [3], [4], [4], [3], [4], [5], [6], [2], [3], [6], [2], [4], [4], [5], [6], [3], [4], [4], [2], [5], [3], [2], [6], [2], [6], [2], [3], [2], [4], [6], [5], [3], [2], [4], [5], [2], [6], [3], [2], [6], [2], [5], [2], [5], [4], [2], [3], [6], [5], [5], [4], [5], [6], [5], [2], [3], [5], [3], [6], [2], [5], [4], [4], [4], [4], [6], [6], [6], [3], [4], [4], [2], [2], [5], [2], [4], [3], [3], [5], [2], [5], [3], [5], [4], [4], [2], [3], [4], [2], [3], [5], [3], [3], [6], [6], [2], [3], [5], [5], [4], [3], [4], [2], [6], [6], [4], [4], [3], [3], [5], [5], [2], [2], [4], [5], [2], [5], [3], [2], [3], [4], [2], [6], [3], [5], [4], [6], [5], [3], [2], [6], [5], [5], [6], [4], [5], [6], [2], [6], [2], [2], [2], [4], [5], [2], [3], [2], [2], [3], [5], [2], [3], [6], [4], [5], [2], [4], [5], [6], [4], [2], [4], [5], [3], [6], [2], [4], [3], [5], [5], [5], [4], [3], [2], [4], [6], [5], [6], [2], [5], [3], [4], [6], [5], [4], [2], [2], [3], [6], [3], [3], [4], [3], [3], [4], [5], [6], [4], [6], [6], [3], [4], [2], [4], [6], [2], [6], [4], [6], [6], [6], [3], [2], [4], [2], [6], [5], [5], [3], [4], [6], [3], [2], [3], [4], [4], [3], [2], [5], [5], [5], [3], [4], [4], [3], [2], [2], [6], [3], [2], [2], [4], [4], [4], [6], [4], [3], [5], [3], [4], [6], [6], [3], [2], [4], [6], [2], [6], [4], [4], [3], [4], [2], [6], [6], [5], [5], [5], [5], [4], [5], [3], [5], [2], [2], [6], [3], [5], [6], [3], [5], [2], [5], [6], [6], [4], [4], [2], [3], [3], [5], [6], [2], [4], [3], [5], [6], [4], [2], [6], [4], [4], [5], [2], [4], [3], [4], [6], [5], [2], [4], [6], [6], [3], [2], [5], [5], [2], [6], [5], [4], [5], [2], [4], [4], [2], [6], [2], [4], [2], [5], [6], [2], [6], [3], [3], [6], [6], [6], [5], [2], [3], [3], [4], [4], [3], [4], [6], [2], [2], [5], [4], [2], [3], [2], [3], [5], [2], [2], [3], [6], [2], [2], [5], [2], [3], [4], [3], [6], [5], [6], [4], [3], [6], [4], [6], [4], [4], [3], [2], [2], [2], [5], [5], [2], [4], [6], [5], [2], [6], [3], [6], [4], [3], [2], [5], [3], [2], [4], [3], [6], [6], [6], [4], [6], [4], [6], [2], [6], [2], [4], [4], [3], [4], [5], [2], [5], [2], [3], [4], [5], [6], [6], [4], [6], [4], [2], [2], [4], [3], [5], [2], [4], [4], [6], [2], [4], [4], [3], [5], [5], [3], [5], [2], [2], [3], [4], [3], [5], [2], [5], [4], [6], [2], [3], [2], [6], [5], [5], [2], [4], [2], [3], [2], [3], [2], [2], [6], [6], [3], [5], [5], [3], [5], [3], [3], [2], [2], [4], [2], [5], [2], [5], [2], [2], [3], [3], [5], [2], [3], [5], [5], [4], [2], [3], [6], [6], [5], [4], [2], [2], [5], [3], [5], [6], [6], [4], [4], [3], [6], [2], [6], [6], [3], [2], [4], [5], [3], [2], [6], [5], [4], [4], [2], [2], [3], [3], [3], [3], [3], [6], [3], [4], [4], [5], [5], [6], [4], [6], [3], [4], [2], [2], [3], [5], [3], [5], [2], [3], [3], [4], [2], [2], [4], [4], [6], [6], [4], [3], [4], [4], [3], [5], [4], [4], [4], [4], [4], [6], [6], [5], [4], [2], [4], [2], [5], [2], [2], [2], [6], [5], [6], [5], [2], [5], [2], [2], [6], [6], [3], [6], [6], [4], [3], [2], [5], [5], [4], [3], [2], [3], [6], [2], [4], [6], [2], [2], [3], [4], [5], [5], [3], [3], [2], [4], [6], [2], [2], [4], [6], [5], [2], [6], [3], [4], [2], [4], [5], [6], [2], [4], [3], [6], [4], [6], [4], [2], [4], [3], [3], [4], [3], [5], [2], [3], [6], [3], [2], [2], [6], [5], [4], [5], [4], [4], [2], [2], [2], [3], [5], [6], [3], [2], [3], [2], [3], [5], [3], [3], [3], [3], [2], [2], [2], [3], [3], [6], [3], [3], [3], [2], [2], [2], [5], [3], [2], [2], [2], [3], [6], [5], [5], [5], [4], [3], [3], [5], [3], [5], [2], [2], [4], [4], [4], [2], [2], [4], [4], [5], [3], [2], [2], [2], [2], [3], [2], [3], [3], [3], [3], [2], [4], [2], [5], [5], [2], [5], [3], [6], [3], [2], [3], [5], [5], [4], [6], [3], [6], [3], [5], [4], [6], [4], [6], [6], [5], [3], [5], [5], [3], [4], [2], [6], [3], [4], [6], [3], [5], [2], [5], [4], [2], [4], [3], [4], [4], [3], [3], [3], [5], [4], [3], [4], [3], [6], [4], [2], [4], [4], [2], [6], [5], [5], [3], [5], [2], [3], [3], [4], [2], [5], [5], [5], [2], [6], [2], [4], [3], [4], [4], [6], [5], [3], [5], [2], [6], [6], [2], [3], [6], [5], [5], [2], [6], [3], [4], [4], [4], [5], [5], [3], [4], [3], [4], [4], [6], [2], [5], [3], [5], [6], [5], [5], [2], [4], [2], [2], [4], [6], [6], [3], [4], [4], [2], [3], [3], [5], [3], [5], [5], [2], [3], [4], [2], [3], [3], [2], [5], [2], [5], [6], [2], [2], [6], [3], [5], [2], [2], [4], [5], [3], [4], [2], [2], [4], [6], [5], [5], [5], [3], [2], [6], [6], [5], [3], [4], [5], [2], [2], [5], [5], [4], [3], [2], [6], [6], [2], [6], [5], [5], [3], [3], [3], [2], [2], [5], [2], [3], [5], [3], [3], [2], [3], [4], [3], [3], [5], [3], [5], [4], [5], [6], [4], [5], [6], [2], [4], [6], [3], [5], [3], [5], [6], [5], [2], [3], [3], [4], [6], [4], [2]]\n",
            "{'<OOV>': 1, 'sport': 2, 'business': 3, 'politics': 4, 'tech': 5, 'entertainment': 6}\n"
          ]
        }
      ]
    }
  ]
}